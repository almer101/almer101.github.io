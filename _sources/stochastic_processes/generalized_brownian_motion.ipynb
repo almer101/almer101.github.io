{
 "cells": [
  {
   "cell_type": "markdown",
   "id": "08d4fa3f-1ade-4d00-a18e-f46de5079930",
   "metadata": {},
   "source": [
    "# Generalized Brownian Motion (TBC)\n",
    "\n",
    "## Introduction\n",
    "\n",
    "In the previous post we have discussed the notion of standard **Brownian Motion**. However useful it may be, it also does not allow us to have a drift or increase/decrease the dispersion, so for this reason we are introducing the **generalized Brownian motion** that will allow us to play around with the drift and diffusion components of the process.\n",
    "\n",
    "*To be continued...*"
   ]
  },
  {
   "cell_type": "code",
   "execution_count": null,
   "id": "0c0bb582-ea35-4b04-a06d-b9fffa4d6ba4",
   "metadata": {},
   "outputs": [],
   "source": []
  }
 ],
 "metadata": {
  "kernelspec": {
   "display_name": "Python 3",
   "language": "python",
   "name": "python3"
  },
  "language_info": {
   "codemirror_mode": {
    "name": "ipython",
    "version": 3
   },
   "file_extension": ".py",
   "mimetype": "text/x-python",
   "name": "python",
   "nbconvert_exporter": "python",
   "pygments_lexer": "ipython3",
   "version": "3.7.8"
  }
 },
 "nbformat": 4,
 "nbformat_minor": 5
}
